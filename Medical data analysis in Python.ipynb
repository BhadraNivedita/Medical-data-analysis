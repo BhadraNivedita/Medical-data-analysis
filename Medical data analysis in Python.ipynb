{
 "cells": [
  {
   "cell_type": "code",
   "execution_count": 1,
   "id": "92bd71aa",
   "metadata": {},
   "outputs": [],
   "source": [
    "import numpy as np\n",
    "from scipy.stats import bayes_mvs, linregress\n",
    "from math import factorial\n",
    "import scikits.bootstrap as bs\n",
    "import matplotlib.pyplot as plt\n",
    "import seaborn as sns\n",
    "import pandas as pd\n",
    "#from scipy import mean\n",
    "#from scipy.stats import chi2_contingency, ranksums, bayes_mvs, ttest_ind, ranksums\n",
    "from warnings import filterwarnings\n",
    "from scipy import stats\n",
    "%matplotlib inline\n",
    "filterwarnings('ignore')\n",
    "\n",
    "%matplotlib inline\n",
    "sns.set_style('whitegrid') # Setting up default plot displays\n",
    "sns.set_context('paper', font_scale = 2.0, rc = {'lines.linewidth': 1.5, 'figure.figsize' : (10, 8)})\n",
    "filterwarnings('ignore')"
   ]
  },
  {
   "cell_type": "code",
   "execution_count": 2,
   "id": "ef8be489",
   "metadata": {},
   "outputs": [
    {
     "data": {
      "text/plain": [
       "'/Users/nbhadra/Documents/github_Nivedita'"
      ]
     },
     "execution_count": 2,
     "metadata": {},
     "output_type": "execute_result"
    }
   ],
   "source": [
    "pwd"
   ]
  },
  {
   "cell_type": "code",
   "execution_count": 3,
   "id": "b659a3c2",
   "metadata": {},
   "outputs": [],
   "source": [
    "data = pd.read_csv('MOOC_Mock.csv')## example dataset"
   ]
  },
  {
   "cell_type": "code",
   "execution_count": 4,
   "id": "8136c907",
   "metadata": {},
   "outputs": [
    {
     "data": {
      "text/html": [
       "<div>\n",
       "<style scoped>\n",
       "    .dataframe tbody tr th:only-of-type {\n",
       "        vertical-align: middle;\n",
       "    }\n",
       "\n",
       "    .dataframe tbody tr th {\n",
       "        vertical-align: top;\n",
       "    }\n",
       "\n",
       "    .dataframe thead th {\n",
       "        text-align: right;\n",
       "    }\n",
       "</style>\n",
       "<table border=\"1\" class=\"dataframe\">\n",
       "  <thead>\n",
       "    <tr style=\"text-align: right;\">\n",
       "      <th></th>\n",
       "      <th>File</th>\n",
       "      <th>Age</th>\n",
       "      <th>Gender</th>\n",
       "      <th>Delay</th>\n",
       "      <th>Stay</th>\n",
       "      <th>ICU</th>\n",
       "      <th>RVD</th>\n",
       "      <th>CD4</th>\n",
       "      <th>HR</th>\n",
       "      <th>Temp</th>\n",
       "      <th>CRP</th>\n",
       "      <th>WCC</th>\n",
       "      <th>HB</th>\n",
       "      <th>Rupture</th>\n",
       "      <th>Histo</th>\n",
       "      <th>Comp</th>\n",
       "      <th>MASS</th>\n",
       "    </tr>\n",
       "  </thead>\n",
       "  <tbody>\n",
       "    <tr>\n",
       "      <th>0</th>\n",
       "      <td>1</td>\n",
       "      <td>38</td>\n",
       "      <td>Female</td>\n",
       "      <td>3</td>\n",
       "      <td>6</td>\n",
       "      <td>No</td>\n",
       "      <td>No</td>\n",
       "      <td>NaN</td>\n",
       "      <td>97</td>\n",
       "      <td>35.2</td>\n",
       "      <td>NaN</td>\n",
       "      <td>10.49</td>\n",
       "      <td>10.4</td>\n",
       "      <td>No</td>\n",
       "      <td>Yes</td>\n",
       "      <td>Yes</td>\n",
       "      <td>5</td>\n",
       "    </tr>\n",
       "    <tr>\n",
       "      <th>1</th>\n",
       "      <td>2</td>\n",
       "      <td>32</td>\n",
       "      <td>Male</td>\n",
       "      <td>6</td>\n",
       "      <td>10</td>\n",
       "      <td>No</td>\n",
       "      <td>Yes</td>\n",
       "      <td>57.0</td>\n",
       "      <td>109</td>\n",
       "      <td>38.8</td>\n",
       "      <td>45.3</td>\n",
       "      <td>7.08</td>\n",
       "      <td>19.8</td>\n",
       "      <td>No</td>\n",
       "      <td>No</td>\n",
       "      <td>Yes</td>\n",
       "      <td>8</td>\n",
       "    </tr>\n",
       "    <tr>\n",
       "      <th>2</th>\n",
       "      <td>3</td>\n",
       "      <td>19</td>\n",
       "      <td>Female</td>\n",
       "      <td>1</td>\n",
       "      <td>16</td>\n",
       "      <td>No</td>\n",
       "      <td>No</td>\n",
       "      <td>NaN</td>\n",
       "      <td>120</td>\n",
       "      <td>36.3</td>\n",
       "      <td>10.7</td>\n",
       "      <td>13.00</td>\n",
       "      <td>8.7</td>\n",
       "      <td>No</td>\n",
       "      <td>No</td>\n",
       "      <td>No</td>\n",
       "      <td>3</td>\n",
       "    </tr>\n",
       "  </tbody>\n",
       "</table>\n",
       "</div>"
      ],
      "text/plain": [
       "   File  Age  Gender  Delay  Stay ICU  RVD   CD4   HR  Temp   CRP    WCC  \\\n",
       "0     1   38  Female      3     6  No   No   NaN   97  35.2   NaN  10.49   \n",
       "1     2   32    Male      6    10  No  Yes  57.0  109  38.8  45.3   7.08   \n",
       "2     3   19  Female      1    16  No   No   NaN  120  36.3  10.7  13.00   \n",
       "\n",
       "     HB Rupture Histo Comp  MASS  \n",
       "0  10.4      No   Yes  Yes     5  \n",
       "1  19.8      No    No  Yes     8  \n",
       "2   8.7      No    No   No     3  "
      ]
     },
     "execution_count": 4,
     "metadata": {},
     "output_type": "execute_result"
    }
   ],
   "source": [
    "data.head(3)"
   ]
  },
  {
   "cell_type": "code",
   "execution_count": 5,
   "id": "0008c019",
   "metadata": {},
   "outputs": [
    {
     "data": {
      "text/plain": [
       "Male      94\n",
       "Female    56\n",
       "Name: Gender, dtype: int64"
      ]
     },
     "execution_count": 5,
     "metadata": {},
     "output_type": "execute_result"
    }
   ],
   "source": [
    "data['Gender'].value_counts()"
   ]
  },
  {
   "cell_type": "code",
   "execution_count": 6,
   "id": "7e6b8aac",
   "metadata": {},
   "outputs": [
    {
     "data": {
      "text/plain": [
       "No     136\n",
       "Yes     14\n",
       "Name: ICU, dtype: int64"
      ]
     },
     "execution_count": 6,
     "metadata": {},
     "output_type": "execute_result"
    }
   ],
   "source": [
    "data['ICU'].value_counts()"
   ]
  },
  {
   "cell_type": "code",
   "execution_count": 7,
   "id": "5a693689",
   "metadata": {},
   "outputs": [
    {
     "data": {
      "text/plain": [
       "No     96\n",
       "Yes    54\n",
       "Name: RVD, dtype: int64"
      ]
     },
     "execution_count": 7,
     "metadata": {},
     "output_type": "execute_result"
    }
   ],
   "source": [
    "data['RVD'].value_counts()"
   ]
  },
  {
   "cell_type": "code",
   "execution_count": 8,
   "id": "c9c5627f",
   "metadata": {},
   "outputs": [
    {
     "data": {
      "text/plain": [
       "No     90\n",
       "Yes    60\n",
       "Name: Rupture, dtype: int64"
      ]
     },
     "execution_count": 8,
     "metadata": {},
     "output_type": "execute_result"
    }
   ],
   "source": [
    "data['Rupture'].value_counts()"
   ]
  },
  {
   "cell_type": "code",
   "execution_count": 9,
   "id": "2d91fb13",
   "metadata": {},
   "outputs": [
    {
     "data": {
      "text/plain": [
       "Yes    120\n",
       "No      30\n",
       "Name: Histo, dtype: int64"
      ]
     },
     "execution_count": 9,
     "metadata": {},
     "output_type": "execute_result"
    }
   ],
   "source": [
    "data['Histo'].value_counts()"
   ]
  },
  {
   "cell_type": "markdown",
   "id": "02cccc7b",
   "metadata": {},
   "source": [
    "# Descriptive statistics"
   ]
  },
  {
   "cell_type": "code",
   "execution_count": 10,
   "id": "3aa96490",
   "metadata": {},
   "outputs": [
    {
     "data": {
      "image/png": "[encoded data removed]",
      "text/plain": [
       "<Figure size 640x480 with 2 Axes>"
      ]
     },
     "metadata": {},
     "output_type": "display_data"
    }
   ],
   "source": [
    "plt.subplot(1, 2, 1)\n",
    "plt.title('Boxplot of male age', fontsize = 18)\n",
    "data[data['Gender'] == 'Male'].boxplot(column = 'Age');\n",
    "plt.subplot(1, 2, 2)\n",
    "plt.title('Boxplot of female age', fontsize = 18)\n",
    "data[data['Gender'] == 'Female'].boxplot(column = 'Age');"
   ]
  },
  {
   "cell_type": "code",
   "execution_count": 11,
   "id": "f3af0f89",
   "metadata": {},
   "outputs": [],
   "source": [
    "female = data[data['Gender'] == 'Female']"
   ]
  },
  {
   "cell_type": "code",
   "execution_count": 12,
   "id": "330415a6",
   "metadata": {},
   "outputs": [
    {
     "data": {
      "image/png": "[encoded data removed]",
      "text/plain": [
       "<Figure size 640x480 with 1 Axes>"
      ]
     },
     "metadata": {},
     "output_type": "display_data"
    }
   ],
   "source": [
    "sns.distplot(female['Age']);"
   ]
  },
  {
   "cell_type": "code",
   "execution_count": 13,
   "id": "603d98da",
   "metadata": {},
   "outputs": [
    {
     "data": {
      "image/png": "[encoded data removed]",
      "text/plain": [
       "<Figure size 640x480 with 1 Axes>"
      ]
     },
     "metadata": {},
     "output_type": "display_data"
    }
   ],
   "source": [
    "male = data[data['Gender'] == 'Male']\n",
    "sns.distplot(male['Age']);"
   ]
  },
  {
   "cell_type": "code",
   "execution_count": 14,
   "id": "cd4d30b0",
   "metadata": {},
   "outputs": [
    {
     "data": {
      "text/plain": [
       "pandas.core.frame.DataFrame"
      ]
     },
     "execution_count": 14,
     "metadata": {},
     "output_type": "execute_result"
    }
   ],
   "source": [
    "type(data)"
   ]
  },
  {
   "cell_type": "code",
   "execution_count": 15,
   "id": "eb529480",
   "metadata": {},
   "outputs": [
    {
     "data": {
      "text/html": [
       "<div>\n",
       "<style scoped>\n",
       "    .dataframe tbody tr th:only-of-type {\n",
       "        vertical-align: middle;\n",
       "    }\n",
       "\n",
       "    .dataframe tbody tr th {\n",
       "        vertical-align: top;\n",
       "    }\n",
       "\n",
       "    .dataframe thead th {\n",
       "        text-align: right;\n",
       "    }\n",
       "</style>\n",
       "<table border=\"1\" class=\"dataframe\">\n",
       "  <thead>\n",
       "    <tr style=\"text-align: right;\">\n",
       "      <th></th>\n",
       "      <th>Age</th>\n",
       "      <th>Gender</th>\n",
       "      <th>Delay</th>\n",
       "      <th>Stay</th>\n",
       "      <th>ICU</th>\n",
       "      <th>RVD</th>\n",
       "      <th>CD4</th>\n",
       "      <th>HR</th>\n",
       "      <th>Temp</th>\n",
       "      <th>CRP</th>\n",
       "      <th>WCC</th>\n",
       "      <th>HB</th>\n",
       "      <th>Rupture</th>\n",
       "      <th>Histo</th>\n",
       "      <th>Comp</th>\n",
       "      <th>MASS</th>\n",
       "    </tr>\n",
       "    <tr>\n",
       "      <th>File</th>\n",
       "      <th></th>\n",
       "      <th></th>\n",
       "      <th></th>\n",
       "      <th></th>\n",
       "      <th></th>\n",
       "      <th></th>\n",
       "      <th></th>\n",
       "      <th></th>\n",
       "      <th></th>\n",
       "      <th></th>\n",
       "      <th></th>\n",
       "      <th></th>\n",
       "      <th></th>\n",
       "      <th></th>\n",
       "      <th></th>\n",
       "      <th></th>\n",
       "    </tr>\n",
       "  </thead>\n",
       "  <tbody>\n",
       "    <tr>\n",
       "      <th>1</th>\n",
       "      <td>38</td>\n",
       "      <td>Female</td>\n",
       "      <td>3</td>\n",
       "      <td>6</td>\n",
       "      <td>No</td>\n",
       "      <td>No</td>\n",
       "      <td>NaN</td>\n",
       "      <td>97</td>\n",
       "      <td>35.2</td>\n",
       "      <td>NaN</td>\n",
       "      <td>10.49</td>\n",
       "      <td>10.4</td>\n",
       "      <td>No</td>\n",
       "      <td>Yes</td>\n",
       "      <td>Yes</td>\n",
       "      <td>5</td>\n",
       "    </tr>\n",
       "    <tr>\n",
       "      <th>2</th>\n",
       "      <td>32</td>\n",
       "      <td>Male</td>\n",
       "      <td>6</td>\n",
       "      <td>10</td>\n",
       "      <td>No</td>\n",
       "      <td>Yes</td>\n",
       "      <td>57.0</td>\n",
       "      <td>109</td>\n",
       "      <td>38.8</td>\n",
       "      <td>45.3</td>\n",
       "      <td>7.08</td>\n",
       "      <td>19.8</td>\n",
       "      <td>No</td>\n",
       "      <td>No</td>\n",
       "      <td>Yes</td>\n",
       "      <td>8</td>\n",
       "    </tr>\n",
       "    <tr>\n",
       "      <th>3</th>\n",
       "      <td>19</td>\n",
       "      <td>Female</td>\n",
       "      <td>1</td>\n",
       "      <td>16</td>\n",
       "      <td>No</td>\n",
       "      <td>No</td>\n",
       "      <td>NaN</td>\n",
       "      <td>120</td>\n",
       "      <td>36.3</td>\n",
       "      <td>10.7</td>\n",
       "      <td>13.00</td>\n",
       "      <td>8.7</td>\n",
       "      <td>No</td>\n",
       "      <td>No</td>\n",
       "      <td>No</td>\n",
       "      <td>3</td>\n",
       "    </tr>\n",
       "  </tbody>\n",
       "</table>\n",
       "</div>"
      ],
      "text/plain": [
       "      Age  Gender  Delay  Stay ICU  RVD   CD4   HR  Temp   CRP    WCC    HB  \\\n",
       "File                                                                          \n",
       "1      38  Female      3     6  No   No   NaN   97  35.2   NaN  10.49  10.4   \n",
       "2      32    Male      6    10  No  Yes  57.0  109  38.8  45.3   7.08  19.8   \n",
       "3      19  Female      1    16  No   No   NaN  120  36.3  10.7  13.00   8.7   \n",
       "\n",
       "     Rupture Histo Comp  MASS  \n",
       "File                           \n",
       "1         No   Yes  Yes     5  \n",
       "2         No    No  Yes     8  \n",
       "3         No    No   No     3  "
      ]
     },
     "execution_count": 15,
     "metadata": {},
     "output_type": "execute_result"
    }
   ],
   "source": [
    "data.set_index('File').head(3) # Changing the default index column to the File column"
   ]
  },
  {
   "cell_type": "code",
   "execution_count": 16,
   "id": "0b421f75",
   "metadata": {},
   "outputs": [
    {
     "data": {
      "text/plain": [
       "count    150.000000\n",
       "mean      30.733333\n",
       "std       10.920498\n",
       "min       18.000000\n",
       "25%       22.000000\n",
       "50%       28.000000\n",
       "75%       35.000000\n",
       "max       67.000000\n",
       "Name: Age, dtype: float64"
      ]
     },
     "execution_count": 16,
     "metadata": {},
     "output_type": "execute_result"
    }
   ],
   "source": [
    "data['Age'].describe() #Identifying the Age column and calling the describe function lists the following"
   ]
  },
  {
   "cell_type": "code",
   "execution_count": 17,
   "id": "740c3252",
   "metadata": {},
   "outputs": [
    {
     "data": {
      "text/plain": [
       "count    150.000000\n",
       "mean       3.206667\n",
       "std        2.241454\n",
       "min        0.000000\n",
       "25%        1.000000\n",
       "50%        3.000000\n",
       "75%        5.000000\n",
       "max        7.000000\n",
       "Name: Delay, dtype: float64"
      ]
     },
     "execution_count": 17,
     "metadata": {},
     "output_type": "execute_result"
    }
   ],
   "source": [
    "data['Delay'].describe()"
   ]
  },
  {
   "cell_type": "code",
   "execution_count": 18,
   "id": "32829006",
   "metadata": {},
   "outputs": [
    {
     "data": {
      "text/plain": [
       "count    150.000000\n",
       "mean      10.886667\n",
       "std        5.413799\n",
       "min        2.000000\n",
       "25%        6.000000\n",
       "50%       11.000000\n",
       "75%       15.000000\n",
       "max       21.000000\n",
       "Name: Stay, dtype: float64"
      ]
     },
     "execution_count": 18,
     "metadata": {},
     "output_type": "execute_result"
    }
   ],
   "source": [
    "data['Stay'].describe()"
   ]
  },
  {
   "cell_type": "code",
   "execution_count": 19,
   "id": "df30531a",
   "metadata": {},
   "outputs": [],
   "source": [
    "RVD_neg = data[data['RVD'] == 'No'] # Only including the rows in the original DataFrame that have a Yes in the RVD column\n",
    "RVD_neg_appx = RVD_neg[RVD_neg['Histo'] == 'Yes'] # Extracting only those who actually had appendicitis\n",
    "RVD_pos = data[data['RVD'] == 'Yes'] # Doing the same but with No in the RVD column\n",
    "RVD_pos_appx = RVD_pos[RVD_pos['Histo'] == 'Yes'] # Extracting only those who actually had appendicitis"
   ]
  },
  {
   "cell_type": "code",
   "execution_count": 20,
   "id": "9661de5d",
   "metadata": {},
   "outputs": [
    {
     "data": {
      "text/html": [
       "<div>\n",
       "<style scoped>\n",
       "    .dataframe tbody tr th:only-of-type {\n",
       "        vertical-align: middle;\n",
       "    }\n",
       "\n",
       "    .dataframe tbody tr th {\n",
       "        vertical-align: top;\n",
       "    }\n",
       "\n",
       "    .dataframe thead th {\n",
       "        text-align: right;\n",
       "    }\n",
       "</style>\n",
       "<table border=\"1\" class=\"dataframe\">\n",
       "  <thead>\n",
       "    <tr style=\"text-align: right;\">\n",
       "      <th></th>\n",
       "      <th>File</th>\n",
       "      <th>Age</th>\n",
       "      <th>Gender</th>\n",
       "      <th>Delay</th>\n",
       "      <th>Stay</th>\n",
       "      <th>ICU</th>\n",
       "      <th>RVD</th>\n",
       "      <th>CD4</th>\n",
       "      <th>HR</th>\n",
       "      <th>Temp</th>\n",
       "      <th>CRP</th>\n",
       "      <th>WCC</th>\n",
       "      <th>HB</th>\n",
       "      <th>Rupture</th>\n",
       "      <th>Histo</th>\n",
       "      <th>Comp</th>\n",
       "      <th>MASS</th>\n",
       "    </tr>\n",
       "  </thead>\n",
       "  <tbody>\n",
       "    <tr>\n",
       "      <th>0</th>\n",
       "      <td>1</td>\n",
       "      <td>38</td>\n",
       "      <td>Female</td>\n",
       "      <td>3</td>\n",
       "      <td>6</td>\n",
       "      <td>No</td>\n",
       "      <td>No</td>\n",
       "      <td>NaN</td>\n",
       "      <td>97</td>\n",
       "      <td>35.2</td>\n",
       "      <td>NaN</td>\n",
       "      <td>10.49</td>\n",
       "      <td>10.4</td>\n",
       "      <td>No</td>\n",
       "      <td>Yes</td>\n",
       "      <td>Yes</td>\n",
       "      <td>5</td>\n",
       "    </tr>\n",
       "    <tr>\n",
       "      <th>7</th>\n",
       "      <td>8</td>\n",
       "      <td>19</td>\n",
       "      <td>Male</td>\n",
       "      <td>2</td>\n",
       "      <td>13</td>\n",
       "      <td>No</td>\n",
       "      <td>No</td>\n",
       "      <td>NaN</td>\n",
       "      <td>102</td>\n",
       "      <td>38.5</td>\n",
       "      <td>224.6</td>\n",
       "      <td>8.99</td>\n",
       "      <td>15.5</td>\n",
       "      <td>No</td>\n",
       "      <td>Yes</td>\n",
       "      <td>Yes</td>\n",
       "      <td>5</td>\n",
       "    </tr>\n",
       "    <tr>\n",
       "      <th>8</th>\n",
       "      <td>9</td>\n",
       "      <td>46</td>\n",
       "      <td>Male</td>\n",
       "      <td>2</td>\n",
       "      <td>9</td>\n",
       "      <td>No</td>\n",
       "      <td>No</td>\n",
       "      <td>NaN</td>\n",
       "      <td>107</td>\n",
       "      <td>36.2</td>\n",
       "      <td>385.1</td>\n",
       "      <td>10.26</td>\n",
       "      <td>15.5</td>\n",
       "      <td>No</td>\n",
       "      <td>Yes</td>\n",
       "      <td>No</td>\n",
       "      <td>1</td>\n",
       "    </tr>\n",
       "    <tr>\n",
       "      <th>9</th>\n",
       "      <td>10</td>\n",
       "      <td>19</td>\n",
       "      <td>Male</td>\n",
       "      <td>7</td>\n",
       "      <td>12</td>\n",
       "      <td>Yes</td>\n",
       "      <td>No</td>\n",
       "      <td>NaN</td>\n",
       "      <td>105</td>\n",
       "      <td>36.6</td>\n",
       "      <td>123</td>\n",
       "      <td>22.19</td>\n",
       "      <td>13.7</td>\n",
       "      <td>No</td>\n",
       "      <td>Yes</td>\n",
       "      <td>Yes</td>\n",
       "      <td>5</td>\n",
       "    </tr>\n",
       "    <tr>\n",
       "      <th>10</th>\n",
       "      <td>11</td>\n",
       "      <td>33</td>\n",
       "      <td>Male</td>\n",
       "      <td>2</td>\n",
       "      <td>14</td>\n",
       "      <td>No</td>\n",
       "      <td>No</td>\n",
       "      <td>NaN</td>\n",
       "      <td>104</td>\n",
       "      <td>36.8</td>\n",
       "      <td>NaN</td>\n",
       "      <td>16.20</td>\n",
       "      <td>12.7</td>\n",
       "      <td>No</td>\n",
       "      <td>Yes</td>\n",
       "      <td>No</td>\n",
       "      <td>9</td>\n",
       "    </tr>\n",
       "  </tbody>\n",
       "</table>\n",
       "</div>"
      ],
      "text/plain": [
       "    File  Age  Gender  Delay  Stay  ICU RVD  CD4   HR  Temp    CRP    WCC  \\\n",
       "0      1   38  Female      3     6   No  No  NaN   97  35.2    NaN  10.49   \n",
       "7      8   19    Male      2    13   No  No  NaN  102  38.5  224.6   8.99   \n",
       "8      9   46    Male      2     9   No  No  NaN  107  36.2  385.1  10.26   \n",
       "9     10   19    Male      7    12  Yes  No  NaN  105  36.6    123  22.19   \n",
       "10    11   33    Male      2    14   No  No  NaN  104  36.8    NaN  16.20   \n",
       "\n",
       "      HB Rupture Histo Comp  MASS  \n",
       "0   10.4      No   Yes  Yes     5  \n",
       "7   15.5      No   Yes  Yes     5  \n",
       "8   15.5      No   Yes   No     1  \n",
       "9   13.7      No   Yes  Yes     5  \n",
       "10  12.7      No   Yes   No     9  "
      ]
     },
     "execution_count": 20,
     "metadata": {},
     "output_type": "execute_result"
    }
   ],
   "source": [
    "RVD_neg_appx.head()"
   ]
  },
  {
   "cell_type": "code",
   "execution_count": 21,
   "id": "2ffe6c6d",
   "metadata": {},
   "outputs": [
    {
     "data": {
      "text/html": [
       "<div>\n",
       "<style scoped>\n",
       "    .dataframe tbody tr th:only-of-type {\n",
       "        vertical-align: middle;\n",
       "    }\n",
       "\n",
       "    .dataframe tbody tr th {\n",
       "        vertical-align: top;\n",
       "    }\n",
       "\n",
       "    .dataframe thead th {\n",
       "        text-align: right;\n",
       "    }\n",
       "</style>\n",
       "<table border=\"1\" class=\"dataframe\">\n",
       "  <thead>\n",
       "    <tr style=\"text-align: right;\">\n",
       "      <th></th>\n",
       "      <th>File</th>\n",
       "      <th>Age</th>\n",
       "      <th>Gender</th>\n",
       "      <th>Delay</th>\n",
       "      <th>Stay</th>\n",
       "      <th>ICU</th>\n",
       "      <th>RVD</th>\n",
       "      <th>CD4</th>\n",
       "      <th>HR</th>\n",
       "      <th>Temp</th>\n",
       "      <th>CRP</th>\n",
       "      <th>WCC</th>\n",
       "      <th>HB</th>\n",
       "      <th>Rupture</th>\n",
       "      <th>Histo</th>\n",
       "      <th>Comp</th>\n",
       "      <th>MASS</th>\n",
       "    </tr>\n",
       "  </thead>\n",
       "  <tbody>\n",
       "    <tr>\n",
       "      <th>4</th>\n",
       "      <td>5</td>\n",
       "      <td>28</td>\n",
       "      <td>Female</td>\n",
       "      <td>3</td>\n",
       "      <td>3</td>\n",
       "      <td>No</td>\n",
       "      <td>Yes</td>\n",
       "      <td>491.0</td>\n",
       "      <td>115</td>\n",
       "      <td>37.1</td>\n",
       "      <td>51.6</td>\n",
       "      <td>21.98</td>\n",
       "      <td>13.4</td>\n",
       "      <td>No</td>\n",
       "      <td>Yes</td>\n",
       "      <td>No</td>\n",
       "      <td>7</td>\n",
       "    </tr>\n",
       "    <tr>\n",
       "      <th>6</th>\n",
       "      <td>7</td>\n",
       "      <td>36</td>\n",
       "      <td>Male</td>\n",
       "      <td>6</td>\n",
       "      <td>14</td>\n",
       "      <td>No</td>\n",
       "      <td>Yes</td>\n",
       "      <td>203.0</td>\n",
       "      <td>95</td>\n",
       "      <td>37.5</td>\n",
       "      <td>NaN</td>\n",
       "      <td>16.21</td>\n",
       "      <td>17.7</td>\n",
       "      <td>Yes</td>\n",
       "      <td>Yes</td>\n",
       "      <td>Yes</td>\n",
       "      <td>7</td>\n",
       "    </tr>\n",
       "    <tr>\n",
       "      <th>19</th>\n",
       "      <td>20</td>\n",
       "      <td>33</td>\n",
       "      <td>Female</td>\n",
       "      <td>1</td>\n",
       "      <td>19</td>\n",
       "      <td>No</td>\n",
       "      <td>Yes</td>\n",
       "      <td>203.0</td>\n",
       "      <td>123</td>\n",
       "      <td>37.5</td>\n",
       "      <td>46.5</td>\n",
       "      <td>8.00</td>\n",
       "      <td>10.4</td>\n",
       "      <td>No</td>\n",
       "      <td>Yes</td>\n",
       "      <td>Yes</td>\n",
       "      <td>8</td>\n",
       "    </tr>\n",
       "    <tr>\n",
       "      <th>31</th>\n",
       "      <td>32</td>\n",
       "      <td>39</td>\n",
       "      <td>Male</td>\n",
       "      <td>2</td>\n",
       "      <td>10</td>\n",
       "      <td>No</td>\n",
       "      <td>Yes</td>\n",
       "      <td>102.0</td>\n",
       "      <td>100</td>\n",
       "      <td>36.8</td>\n",
       "      <td>208</td>\n",
       "      <td>20.43</td>\n",
       "      <td>12.9</td>\n",
       "      <td>Yes</td>\n",
       "      <td>Yes</td>\n",
       "      <td>No</td>\n",
       "      <td>1</td>\n",
       "    </tr>\n",
       "    <tr>\n",
       "      <th>32</th>\n",
       "      <td>33</td>\n",
       "      <td>33</td>\n",
       "      <td>Male</td>\n",
       "      <td>0</td>\n",
       "      <td>21</td>\n",
       "      <td>No</td>\n",
       "      <td>Yes</td>\n",
       "      <td>266.0</td>\n",
       "      <td>100</td>\n",
       "      <td>39.7</td>\n",
       "      <td>194.1</td>\n",
       "      <td>7.31</td>\n",
       "      <td>10.7</td>\n",
       "      <td>Yes</td>\n",
       "      <td>Yes</td>\n",
       "      <td>Yes</td>\n",
       "      <td>3</td>\n",
       "    </tr>\n",
       "  </tbody>\n",
       "</table>\n",
       "</div>"
      ],
      "text/plain": [
       "    File  Age  Gender  Delay  Stay ICU  RVD    CD4   HR  Temp    CRP    WCC  \\\n",
       "4      5   28  Female      3     3  No  Yes  491.0  115  37.1   51.6  21.98   \n",
       "6      7   36    Male      6    14  No  Yes  203.0   95  37.5    NaN  16.21   \n",
       "19    20   33  Female      1    19  No  Yes  203.0  123  37.5   46.5   8.00   \n",
       "31    32   39    Male      2    10  No  Yes  102.0  100  36.8    208  20.43   \n",
       "32    33   33    Male      0    21  No  Yes  266.0  100  39.7  194.1   7.31   \n",
       "\n",
       "      HB Rupture Histo Comp  MASS  \n",
       "4   13.4      No   Yes   No     7  \n",
       "6   17.7     Yes   Yes  Yes     7  \n",
       "19  10.4      No   Yes  Yes     8  \n",
       "31  12.9     Yes   Yes   No     1  \n",
       "32  10.7     Yes   Yes  Yes     3  "
      ]
     },
     "execution_count": 21,
     "metadata": {},
     "output_type": "execute_result"
    }
   ],
   "source": [
    "RVD_pos_appx.head()"
   ]
  },
  {
   "cell_type": "code",
   "execution_count": 22,
   "id": "19dbe323",
   "metadata": {},
   "outputs": [
    {
     "data": {
      "text/plain": [
       "count    78.000000\n",
       "mean     14.044103\n",
       "std       4.347939\n",
       "min       6.610000\n",
       "25%      11.270000\n",
       "50%      13.655000\n",
       "75%      16.305000\n",
       "max      26.400000\n",
       "Name: WCC, dtype: float64"
      ]
     },
     "execution_count": 22,
     "metadata": {},
     "output_type": "execute_result"
    }
   ],
   "source": [
    "RVD_neg_appx['WCC'].describe() # Describing the WCC column in the RVD_neg DataFrame"
   ]
  },
  {
   "cell_type": "code",
   "execution_count": 23,
   "id": "b23eb815",
   "metadata": {},
   "outputs": [
    {
     "data": {
      "text/plain": [
       "count    40.000000\n",
       "mean     15.773250\n",
       "std       4.934148\n",
       "min       2.950000\n",
       "25%      12.475000\n",
       "50%      15.575000\n",
       "75%      19.920000\n",
       "max      24.890000\n",
       "Name: WCC, dtype: float64"
      ]
     },
     "execution_count": 23,
     "metadata": {},
     "output_type": "execute_result"
    }
   ],
   "source": [
    "RVD_pos_appx['WCC'].describe() # Describing the WCC column in the RVD_pos DataFrame"
   ]
  },
  {
   "cell_type": "code",
   "execution_count": 24,
   "id": "0d97ae20",
   "metadata": {},
   "outputs": [
    {
     "data": {
      "text/plain": [
       "(Mean(statistic=14.044102564102564, minmax=(13.063793818374444, 15.024411309830684)),\n",
       " Variance(statistic=19.408694495726504, minmax=(14.11088338425169, 26.648893927036053)),\n",
       " Std_dev(statistic=4.390869771933709, minmax=(3.7564455785025936, 5.162256670007416)))"
      ]
     },
     "execution_count": 24,
     "metadata": {},
     "output_type": "execute_result"
    }
   ],
   "source": [
    "bayes_mvs(RVD_neg_appx['WCC'].dropna(), 0.95)"
   ]
  },
  {
   "cell_type": "code",
   "execution_count": 25,
   "id": "16c79468",
   "metadata": {},
   "outputs": [
    {
     "data": {
      "text/plain": [
       "(Mean(statistic=15.77325, minmax=(14.195232891628422, 17.35126710837158)),\n",
       " Variance(statistic=25.661807500000002, minmax=(16.33664662139605, 40.14009680082855)),\n",
       " Std_dev(statistic=5.031639944380193, minmax=(4.041861776631661, 6.33562126399839)))"
      ]
     },
     "execution_count": 25,
     "metadata": {},
     "output_type": "execute_result"
    }
   ],
   "source": [
    "bayes_mvs(RVD_pos_appx['WCC'].dropna(), 0.95)"
   ]
  },
  {
   "cell_type": "code",
   "execution_count": 26,
   "id": "129c2920",
   "metadata": {},
   "outputs": [
    {
     "data": {
      "text/plain": [
       "(Mean(statistic=15.77325, minmax=(14.756206821106424, 16.790293178893577)),\n",
       " Variance(statistic=25.661807500000002, minmax=(18.742423588894685, 33.67478051622629)),\n",
       " Std_dev(statistic=5.031639944380193, minmax=(4.329252081929936, 5.802997545771176)))"
      ]
     },
     "execution_count": 26,
     "metadata": {},
     "output_type": "execute_result"
    }
   ],
   "source": [
    "bayes_mvs(RVD_pos_appx['WCC'], 0.8)"
   ]
  },
  {
   "cell_type": "code",
   "execution_count": 27,
   "id": "907e8cb8",
   "metadata": {},
   "outputs": [
    {
     "data": {
      "text/plain": [
       "array([14.18625, 17.2375 ])"
      ]
     },
     "execution_count": 27,
     "metadata": {},
     "output_type": "execute_result"
    }
   ],
   "source": [
    "bs.ci(RVD_pos_appx['WCC'].dropna(), alpha = 0.05, n_samples = 10000)\n",
    "# Note that we state the alpha value directly and here I use 10000 resamples"
   ]
  },
  {
   "cell_type": "code",
   "execution_count": 28,
   "id": "df5bfdcc",
   "metadata": {},
   "outputs": [],
   "source": [
    "appx_neg = data[data['Histo'] == 'No']\n",
    "appx_pos = data[data['Histo'] == 'Yes']"
   ]
  },
  {
   "cell_type": "code",
   "execution_count": 29,
   "id": "2fc373f6",
   "metadata": {},
   "outputs": [
    {
     "data": {
      "text/plain": [
       "count    29.000000\n",
       "mean     11.544483\n",
       "std       5.100563\n",
       "min       4.220000\n",
       "25%       7.700000\n",
       "50%      10.910000\n",
       "75%      14.530000\n",
       "max      26.190000\n",
       "Name: WCC, dtype: float64"
      ]
     },
     "execution_count": 29,
     "metadata": {},
     "output_type": "execute_result"
    }
   ],
   "source": [
    "appx_neg['WCC'].describe()"
   ]
  },
  {
   "cell_type": "code",
   "execution_count": 30,
   "id": "8e4692c1",
   "metadata": {},
   "outputs": [
    {
     "data": {
      "text/plain": [
       "count    118.000000\n",
       "mean      14.630254\n",
       "std        4.607867\n",
       "min        2.950000\n",
       "25%       11.975000\n",
       "50%       14.275000\n",
       "75%       16.760000\n",
       "max       26.400000\n",
       "Name: WCC, dtype: float64"
      ]
     },
     "execution_count": 30,
     "metadata": {},
     "output_type": "execute_result"
    }
   ],
   "source": [
    "appx_pos['WCC'].describe()"
   ]
  },
  {
   "cell_type": "code",
   "execution_count": 31,
   "id": "ae0339cc",
   "metadata": {},
   "outputs": [
    {
     "data": {
      "image/png": "[encoded data removed]",
      "text/plain": [
       "<Figure size 640x480 with 1 Axes>"
      ]
     },
     "metadata": {},
     "output_type": "display_data"
    }
   ],
   "source": [
    "stats.probplot(appx_neg['WCC'].dropna(), dist = 'norm', plot = plt);"
   ]
  },
  {
   "cell_type": "code",
   "execution_count": 32,
   "id": "e9e7f1be",
   "metadata": {},
   "outputs": [
    {
     "data": {
      "image/png": "[encoded data removed]",
      "text/plain": [
       "<Figure size 640x480 with 1 Axes>"
      ]
     },
     "metadata": {},
     "output_type": "display_data"
    }
   ],
   "source": [
    "stats.probplot(appx_pos['WCC'].dropna(), dist = 'norm', plot = plt);"
   ]
  },
  {
   "cell_type": "code",
   "execution_count": 33,
   "id": "afd3352d",
   "metadata": {},
   "outputs": [
    {
     "data": {
      "text/plain": [
       "26.015747044334972"
      ]
     },
     "execution_count": 33,
     "metadata": {},
     "output_type": "execute_result"
    }
   ],
   "source": [
    "appx_neg['WCC'].var()"
   ]
  },
  {
   "cell_type": "code",
   "execution_count": 34,
   "id": "af32e7df",
   "metadata": {},
   "outputs": [
    {
     "data": {
      "text/plain": [
       "21.232438396349437"
      ]
     },
     "execution_count": 34,
     "metadata": {},
     "output_type": "execute_result"
    }
   ],
   "source": [
    "appx_pos['WCC'].var()"
   ]
  },
  {
   "cell_type": "markdown",
   "id": "76861c9a",
   "metadata": {},
   "source": [
    "# t-test"
   ]
  },
  {
   "cell_type": "code",
   "execution_count": 35,
   "id": "84fbe12e",
   "metadata": {},
   "outputs": [
    {
     "data": {
      "text/plain": [
       "0.0019024340692918912"
      ]
     },
     "execution_count": 35,
     "metadata": {},
     "output_type": "execute_result"
    }
   ],
   "source": [
    "t_stat, p_val = stats.ttest_ind(appx_neg['WCC'].dropna(), appx_pos['WCC'].dropna(), equal_var = True)\n",
    "p_val"
   ]
  },
  {
   "cell_type": "code",
   "execution_count": 36,
   "id": "54750749",
   "metadata": {},
   "outputs": [
    {
     "data": {
      "text/plain": [
       "-3.1629936640352385"
      ]
     },
     "execution_count": 36,
     "metadata": {},
     "output_type": "execute_result"
    }
   ],
   "source": [
    "t_stat"
   ]
  },
  {
   "cell_type": "code",
   "execution_count": 37,
   "id": "6d130863",
   "metadata": {},
   "outputs": [
    {
     "data": {
      "text/plain": [
       "0.004972269753330877"
      ]
     },
     "execution_count": 37,
     "metadata": {},
     "output_type": "execute_result"
    }
   ],
   "source": [
    "t_stat_unequal, p_val_unequal = stats.ttest_ind(appx_neg['WCC'].dropna(), appx_pos['WCC'].dropna(), equal_var = False)\n",
    "# This time I set equal_var to False\n",
    "p_val_unequal"
   ]
  },
  {
   "cell_type": "code",
   "execution_count": 38,
   "id": "8a5b3b2e",
   "metadata": {},
   "outputs": [],
   "source": [
    "t_stat_U, p_val_U = stats.mannwhitneyu(appx_neg['WCC'].dropna(), appx_pos['WCC'].dropna())"
   ]
  },
  {
   "cell_type": "code",
   "execution_count": 39,
   "id": "f1895a6d",
   "metadata": {},
   "outputs": [
    {
     "data": {
      "text/plain": [
       "0.0029346491779694184"
      ]
     },
     "execution_count": 39,
     "metadata": {},
     "output_type": "execute_result"
    }
   ],
   "source": [
    "p_val_U * 2"
   ]
  },
  {
   "cell_type": "code",
   "execution_count": 40,
   "id": "30fd3170",
   "metadata": {},
   "outputs": [
    {
     "data": {
      "text/plain": [
       "Histo  RVD\n",
       "No     No     16\n",
       "       Yes    14\n",
       "Yes    No     80\n",
       "       Yes    40\n",
       "Name: RVD, dtype: int64"
      ]
     },
     "execution_count": 40,
     "metadata": {},
     "output_type": "execute_result"
    }
   ],
   "source": [
    "histo_group = data.groupby(data['Histo'])\n",
    "histo_group['RVD'].value_counts()"
   ]
  },
  {
   "cell_type": "code",
   "execution_count": 41,
   "id": "6142eff8",
   "metadata": {},
   "outputs": [
    {
     "data": {
      "text/plain": [
       "array([[16, 14],\n",
       "       [80, 40]])"
      ]
     },
     "execution_count": 41,
     "metadata": {},
     "output_type": "execute_result"
    }
   ],
   "source": [
    "histo_RVD_observed = np.array([[16, 14], [80, 40]])\n",
    "histo_RVD_observed"
   ]
  },
  {
   "cell_type": "markdown",
   "id": "8c09ff30",
   "metadata": {},
   "source": [
    "# Chi-squared test "
   ]
  },
  {
   "cell_type": "code",
   "execution_count": 42,
   "id": "9c3d536e",
   "metadata": {},
   "outputs": [],
   "source": [
    "chi_val, p, df, expected = stats.chi2_contingency(histo_RVD_observed)"
   ]
  },
  {
   "cell_type": "code",
   "execution_count": 43,
   "id": "6b2b8ce8",
   "metadata": {},
   "outputs": [
    {
     "data": {
      "text/plain": [
       "1.3183593750000002"
      ]
     },
     "execution_count": 43,
     "metadata": {},
     "output_type": "execute_result"
    }
   ],
   "source": [
    "chi_val"
   ]
  },
  {
   "cell_type": "code",
   "execution_count": 44,
   "id": "c3771844",
   "metadata": {},
   "outputs": [
    {
     "data": {
      "text/plain": [
       "0.25088670393543633"
      ]
     },
     "execution_count": 44,
     "metadata": {},
     "output_type": "execute_result"
    }
   ],
   "source": [
    "p"
   ]
  },
  {
   "cell_type": "code",
   "execution_count": 45,
   "id": "773dca4e",
   "metadata": {},
   "outputs": [
    {
     "data": {
      "text/plain": [
       "array([[19.2, 10.8],\n",
       "       [76.8, 43.2]])"
      ]
     },
     "execution_count": 45,
     "metadata": {},
     "output_type": "execute_result"
    }
   ],
   "source": [
    "expected"
   ]
  },
  {
   "cell_type": "markdown",
   "id": "24747e2c",
   "metadata": {},
   "source": [
    "# Linear Regression "
   ]
  },
  {
   "cell_type": "code",
   "execution_count": 46,
   "id": "39655e1f",
   "metadata": {},
   "outputs": [
    {
     "data": {
      "text/plain": [
       "<AxesSubplot:xlabel='WCC', ylabel='Temp'>"
      ]
     },
     "execution_count": 46,
     "metadata": {},
     "output_type": "execute_result"
    },
    {
     "data": {
      "image/png": "[encoded data removed]",
      "text/plain": [
       "<Figure size 1000x800 with 1 Axes>"
      ]
     },
     "metadata": {},
     "output_type": "display_data"
    }
   ],
   "source": [
    "data_2 = data.dropna(subset = ['Temp', 'WCC'])\n",
    "\n",
    "plt.figure(figsize = (10, 8))\n",
    "sns.regplot(data_2['WCC'], data_2['Temp'], x_ci=95, scatter=True, fit_reg=True, ci=95, n_boot=1000, dropna=True,\n",
    "            label='Correlating admission WCC and temperature', color=None)"
   ]
  },
  {
   "cell_type": "code",
   "execution_count": 47,
   "id": "ba74fc4a",
   "metadata": {},
   "outputs": [],
   "source": [
    "slope, intercept, r_value, p_value, std_err = linregress(data_2['WCC'], data_2['Temp'])"
   ]
  },
  {
   "cell_type": "markdown",
   "id": "4910f0ce",
   "metadata": {},
   "source": [
    "# Calculating sensitivity and specifcity"
   ]
  },
  {
   "cell_type": "code",
   "execution_count": 48,
   "id": "0b181feb",
   "metadata": {},
   "outputs": [],
   "source": [
    "appen_pos = data[data['Histo'] == 'Yes'] # A new DataFrame including only those with\n",
    "# histologically proven appendicitis\n",
    "appen_neg = data[data['Histo'] == 'No']\n",
    "\n",
    "tp_all = appen_pos[appen_pos['WCC'] >= 12] # A new DataFrame object from the appen_pos\n",
    "# DataFrame with a WCC of 12 or more as a positive result, hence true positive\n",
    "fn_all = appen_pos[appen_pos['WCC'] < 12]\n",
    "\n",
    "tn_all = appen_neg[appen_neg['WCC'] < 12]\n",
    "fp_all = appen_neg[appen_neg['WCC'] >= 12]"
   ]
  },
  {
   "cell_type": "code",
   "execution_count": 49,
   "id": "2e9fe3aa",
   "metadata": {},
   "outputs": [
    {
     "data": {
      "text/plain": [
       "count    87.000000\n",
       "mean     16.507471\n",
       "std       3.729035\n",
       "min      12.000000\n",
       "25%      13.605000\n",
       "50%      15.650000\n",
       "75%      17.720000\n",
       "max      26.400000\n",
       "Name: WCC, dtype: float64"
      ]
     },
     "execution_count": 49,
     "metadata": {},
     "output_type": "execute_result"
    }
   ],
   "source": [
    "tp_all['WCC'].dropna().describe()  # Just interested in the counts here"
   ]
  },
  {
   "cell_type": "code",
   "execution_count": 50,
   "id": "259f2754",
   "metadata": {},
   "outputs": [
    {
     "data": {
      "text/plain": [
       "count    31.000000\n",
       "mean      9.361935\n",
       "std       2.010896\n",
       "min       2.950000\n",
       "25%       8.195000\n",
       "50%       9.390000\n",
       "75%      10.650000\n",
       "max      11.990000\n",
       "Name: WCC, dtype: float64"
      ]
     },
     "execution_count": 50,
     "metadata": {},
     "output_type": "execute_result"
    }
   ],
   "source": [
    "fn_all['WCC'].dropna().describe()"
   ]
  },
  {
   "cell_type": "code",
   "execution_count": 51,
   "id": "42e59ec7",
   "metadata": {},
   "outputs": [
    {
     "data": {
      "text/plain": [
       "count    18.000000\n",
       "mean      8.375000\n",
       "std       2.481184\n",
       "min       4.220000\n",
       "25%       6.795000\n",
       "50%       8.155000\n",
       "75%      10.542500\n",
       "max      11.700000\n",
       "Name: WCC, dtype: float64"
      ]
     },
     "execution_count": 51,
     "metadata": {},
     "output_type": "execute_result"
    }
   ],
   "source": [
    "tn_all['WCC'].dropna().describe()"
   ]
  },
  {
   "cell_type": "code",
   "execution_count": 60,
   "id": "8f393a4a",
   "metadata": {},
   "outputs": [],
   "source": [
    "fp = fp_all['WCC'].dropna().describe()['count']\n",
    "fn = fn_all['WCC'].dropna().describe()['count']\n",
    "tp = tp_all['WCC'].dropna().describe()['count']\n",
    "tn = tn_all['WCC'].dropna().describe()['count']"
   ]
  },
  {
   "cell_type": "code",
   "execution_count": 61,
   "id": "80d1e108",
   "metadata": {},
   "outputs": [],
   "source": [
    "sens = tp / (tp + fn)\n",
    "spec = tn / (tn + fp)"
   ]
  },
  {
   "cell_type": "code",
   "execution_count": 62,
   "id": "beb778a5",
   "metadata": {},
   "outputs": [
    {
     "name": "stdout",
     "output_type": "stream",
     "text": [
      "The sensitivity of a raised WCC in appendicitis is:  73.72881355932203 %\n"
     ]
    }
   ],
   "source": [
    "print('The sensitivity of a raised WCC in appendicitis is: ', (sens * 100), '%')"
   ]
  },
  {
   "cell_type": "code",
   "execution_count": 63,
   "id": "7a748f8b",
   "metadata": {},
   "outputs": [
    {
     "name": "stdout",
     "output_type": "stream",
     "text": [
      "The specificity of a raised WCC in appendicitis is:  62.06896551724138 %\n"
     ]
    }
   ],
   "source": [
    "print('The specificity of a raised WCC in appendicitis is: ', (spec * 100), '%')"
   ]
  },
  {
   "cell_type": "code",
   "execution_count": 64,
   "id": "0aa05ad1",
   "metadata": {},
   "outputs": [
    {
     "name": "stdout",
     "output_type": "stream",
     "text": [
      "The negative predicitive value of a normal WCC (the chance of not having appendicitis given a negative result is 36.734693877551024 %\n"
     ]
    }
   ],
   "source": [
    "print('The negative predicitive value of a normal WCC (the chance of not having appendicitis given a negative result is', (tn * 100 / (tn + fn)), '%')"
   ]
  },
  {
   "cell_type": "code",
   "execution_count": 65,
   "id": "41b5c635",
   "metadata": {},
   "outputs": [
    {
     "name": "stdout",
     "output_type": "stream",
     "text": [
      "The positive predicitive value is : 88.77551020408163 %\n"
     ]
    }
   ],
   "source": [
    "print('The positive predicitive value is :', (tp * 100 / (tp + fp)), '%')"
   ]
  },
  {
   "cell_type": "code",
   "execution_count": null,
   "id": "885c096a",
   "metadata": {},
   "outputs": [],
   "source": []
  }
 ],
 "metadata": {
  "kernelspec": {
   "display_name": "Python 3 (ipykernel)",
   "language": "python",
   "name": "python3"
  },
  "language_info": {
   "codemirror_mode": {
    "name": "ipython",
    "version": 3
   },
   "file_extension": ".py",
   "mimetype": "text/x-python",
   "name": "python",
   "nbconvert_exporter": "python",
   "pygments_lexer": "ipython3",
   "version": "3.9.16"
  }
 },
 "nbformat": 4,
 "nbformat_minor": 5
}
